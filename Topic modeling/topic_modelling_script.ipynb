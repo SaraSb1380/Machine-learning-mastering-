{
 "cells": [
  {
   "cell_type": "code",
   "execution_count": 35,
   "metadata": {},
   "outputs": [
    {
     "name": "stdout",
     "output_type": "stream",
     "text": [
      "Python: 3.7.4 (default, Aug 13 2019, 15:17:50) \n",
      "[Clang 4.0.1 (tags/RELEASE_401/final)]\n",
      "NLTK: 3.5\n",
      "Scikit-learn: 0.22.2.post1\n",
      "Pandas: 0.25.3\n",
      "Numpy: 1.17.2\n"
     ]
    }
   ],
   "source": [
    "print(f'Python: {sys.version}')\n",
    "print(f'NLTK: {nltk.__version__}')\n",
    "print(f'Scikit-learn: {sklearn.__version__}')\n",
    "print(f'Pandas: {pd.__version__}')\n",
    "print(f'Numpy: {np.__version__}')"
   ]
  },
  {
   "cell_type": "markdown",
   "metadata": {},
   "source": [
    "### Importing topic_modelling calss"
   ]
  },
  {
   "cell_type": "code",
   "execution_count": 20,
   "metadata": {},
   "outputs": [],
   "source": [
    "from Topic_modelling import *"
   ]
  },
  {
   "cell_type": "markdown",
   "metadata": {},
   "source": [
    "### Loading data"
   ]
  },
  {
   "cell_type": "code",
   "execution_count": 21,
   "metadata": {},
   "outputs": [
    {
     "data": {
      "text/plain": [
       "(310, 7)"
      ]
     },
     "execution_count": 21,
     "metadata": {},
     "output_type": "execute_result"
    }
   ],
   "source": [
    "df_path = 'labelled_production_data.csv'\n",
    "df = load(df_path)"
   ]
  },
  {
   "cell_type": "code",
   "execution_count": 23,
   "metadata": {},
   "outputs": [],
   "source": [
    "df.drop(columns = ['Unnamed: 0'],inplace=True)"
   ]
  },
  {
   "cell_type": "code",
   "execution_count": 33,
   "metadata": {},
   "outputs": [
    {
     "data": {
      "text/html": [
       "<div>\n",
       "<style scoped>\n",
       "    .dataframe tbody tr th:only-of-type {\n",
       "        vertical-align: middle;\n",
       "    }\n",
       "\n",
       "    .dataframe tbody tr th {\n",
       "        vertical-align: top;\n",
       "    }\n",
       "\n",
       "    .dataframe thead th {\n",
       "        text-align: right;\n",
       "    }\n",
       "</style>\n",
       "<table border=\"1\" class=\"dataframe\">\n",
       "  <thead>\n",
       "    <tr style=\"text-align: right;\">\n",
       "      <th></th>\n",
       "      <th>Title</th>\n",
       "      <th>Company</th>\n",
       "      <th>Location</th>\n",
       "      <th>Summary</th>\n",
       "      <th>description</th>\n",
       "      <th>date</th>\n",
       "    </tr>\n",
       "  </thead>\n",
       "  <tbody>\n",
       "    <tr>\n",
       "      <th>0</th>\n",
       "      <td>Data Analyst</td>\n",
       "      <td>York Region</td>\n",
       "      <td>Greater Toronto Area, ON</td>\n",
       "      <td>Statistical Data Analyst\\nYork Region59 review...</td>\n",
       "      <td>['Full-time, Temporary', '$40.60 - $44.12 an h...</td>\n",
       "      <td>2020/6/26</td>\n",
       "    </tr>\n",
       "    <tr>\n",
       "      <th>1</th>\n",
       "      <td>Data Analyst</td>\n",
       "      <td>MEDCAN</td>\n",
       "      <td>Greater Toronto Area, ON</td>\n",
       "      <td>Data Analyst\\nMEDCAN25 reviews - Toronto, ON\\n...</td>\n",
       "      <td>['About Us :', '', \"Established over 30 years ...</td>\n",
       "      <td>2020/6/26</td>\n",
       "    </tr>\n",
       "    <tr>\n",
       "      <th>2</th>\n",
       "      <td>Data Analyst</td>\n",
       "      <td>BELL MOBILITY/BELL MOBILITÉ</td>\n",
       "      <td>Greater Toronto Area, ON</td>\n",
       "      <td>Data Analyst, Bell Mobility\\nBELL MOBILITY/BEL...</td>\n",
       "      <td>['Req Id: 256412', '', 'At Bell, we do more th...</td>\n",
       "      <td>2020/6/26</td>\n",
       "    </tr>\n",
       "    <tr>\n",
       "      <th>3</th>\n",
       "      <td>Data Analyst</td>\n",
       "      <td>Sunnybrook Health Sciences Centre</td>\n",
       "      <td>Greater Toronto Area, ON</td>\n",
       "      <td>Data Analyst - Trauma Services - Regular Full-...</td>\n",
       "      <td>['We currently have a Regular Full-time opport...</td>\n",
       "      <td>2020/6/26</td>\n",
       "    </tr>\n",
       "    <tr>\n",
       "      <th>4</th>\n",
       "      <td>Data Analyst</td>\n",
       "      <td>Dawn InfoTek Inc.</td>\n",
       "      <td>Greater Toronto Area, ON</td>\n",
       "      <td>Data Analyst\\nDawn InfoTek Inc. - Toronto, ON\\...</td>\n",
       "      <td>['Dawn InfoTek Inc. is a professional IT consu...</td>\n",
       "      <td>2020/6/26</td>\n",
       "    </tr>\n",
       "  </tbody>\n",
       "</table>\n",
       "</div>"
      ],
      "text/plain": [
       "          Title                            Company                  Location  \\\n",
       "0  Data Analyst                        York Region  Greater Toronto Area, ON   \n",
       "1  Data Analyst                             MEDCAN  Greater Toronto Area, ON   \n",
       "2  Data Analyst        BELL MOBILITY/BELL MOBILITÉ  Greater Toronto Area, ON   \n",
       "3  Data Analyst  Sunnybrook Health Sciences Centre  Greater Toronto Area, ON   \n",
       "4  Data Analyst                  Dawn InfoTek Inc.  Greater Toronto Area, ON   \n",
       "\n",
       "                                             Summary  \\\n",
       "0  Statistical Data Analyst\\nYork Region59 review...   \n",
       "1  Data Analyst\\nMEDCAN25 reviews - Toronto, ON\\n...   \n",
       "2  Data Analyst, Bell Mobility\\nBELL MOBILITY/BEL...   \n",
       "3  Data Analyst - Trauma Services - Regular Full-...   \n",
       "4  Data Analyst\\nDawn InfoTek Inc. - Toronto, ON\\...   \n",
       "\n",
       "                                         description       date  \n",
       "0  ['Full-time, Temporary', '$40.60 - $44.12 an h...  2020/6/26  \n",
       "1  ['About Us :', '', \"Established over 30 years ...  2020/6/26  \n",
       "2  ['Req Id: 256412', '', 'At Bell, we do more th...  2020/6/26  \n",
       "3  ['We currently have a Regular Full-time opport...  2020/6/26  \n",
       "4  ['Dawn InfoTek Inc. is a professional IT consu...  2020/6/26  "
      ]
     },
     "execution_count": 33,
     "metadata": {},
     "output_type": "execute_result"
    }
   ],
   "source": [
    "df.head()"
   ]
  },
  {
   "cell_type": "code",
   "execution_count": 24,
   "metadata": {},
   "outputs": [],
   "source": [
    "# store the job description data\n",
    "description = df['description']"
   ]
  },
  {
   "cell_type": "markdown",
   "metadata": {},
   "source": [
    "### Topic Modeling of job description for 4 topics"
   ]
  },
  {
   "cell_type": "code",
   "execution_count": 25,
   "metadata": {},
   "outputs": [],
   "source": [
    "vectorizer = CountVectorizer(tokenizer = spacy_tokenizer,ngram_range=(2,3), min_df=0.05,max_df=0.7)\n",
    "\n",
    "topic = TopicModelling(vectorizer, description,4)\n",
    "\n",
    "lda_fit = topic.fit_transform()\n"
   ]
  },
  {
   "cell_type": "code",
   "execution_count": 26,
   "metadata": {},
   "outputs": [
    {
     "name": "stdout",
     "output_type": "stream",
     "text": [
      "\n",
      "Topic #1: de données,et de,des données,de la,et les,et des,avec les,données et,ad hoc,data analyst,computer science,sql server,data engineer,minimum year,data science,year experience,apache spark,machine learning,experience work,minimum year experience,analyze data,experience data,power bi,data set,actionable insight\n",
      "\n",
      "Topic #2: data engineer,big data,data pipeline,year experience,data warehouse,data analytic,data engineering,experience work,real time,computer science,large scale,good practice,data platform,experience data,data processing,data scientist,data lake,equal opportunity employer,opportunity employer,equal opportunity,hand experience,work environment,data management,engineering team,build data\n",
      "\n",
      "Topic #3: machine learning,machine learn,deep learning,data scientist,data science,computer science,learn algorithm,learning model,machine learn algorithm,learning deep,big data,machine learning model,natural language,learning deep learning,selection process,language processing,data set,natural language processing,machine learning deep,experience work,accommodation available,available request,scikit learn,accommodation available request,people disability\n",
      "\n",
      "Topic #4: data analyst,data science,machine learning,data scientist,data analysis,communication skill,data set,computer science,ability work,experience data,data drive,data source,data visualization,experience work,equal opportunity,year experience,skill ability,attention detail,data mining,bachelor degree,problem solve,advanced analytic,equal opportunity employer,opportunity employer,data quality\n",
      "\n"
     ]
    }
   ],
   "source": [
    "#print 25 top words of any topics\n",
    "topic.print_top_words(25)"
   ]
  },
  {
   "cell_type": "code",
   "execution_count": 27,
   "metadata": {},
   "outputs": [
    {
     "data": {
      "text/plain": [
       "array([[0.02221095, 0.02184323, 0.02114142, 0.9348044 ],\n",
       "       [0.00688458, 0.00712783, 0.00687313, 0.97911445],\n",
       "       [0.01322845, 0.01340193, 0.95991571, 0.01345391],\n",
       "       ...,\n",
       "       [0.00829404, 0.15885953, 0.59620078, 0.23664564],\n",
       "       [0.00629448, 0.00635438, 0.98074352, 0.00660763],\n",
       "       [0.00590329, 0.54523784, 0.20328425, 0.24557462]])"
      ]
     },
     "execution_count": 27,
     "metadata": {},
     "output_type": "execute_result"
    }
   ],
   "source": [
    "lda_fit"
   ]
  },
  {
   "cell_type": "code",
   "execution_count": 28,
   "metadata": {},
   "outputs": [
    {
     "name": "stdout",
     "output_type": "stream",
     "text": [
      "Data Analyst [0.98835654 0.00386898 0.00389182 0.00388266]\n",
      "Data Analyst [0.98835654 0.00386898 0.00389182 0.00388266]\n",
      "Data Analyst [0.98683587 0.00436524 0.00433126 0.00446763]\n",
      "Data Engineer [0.98610171 0.00470019 0.00462043 0.00457767]\n",
      "Data Scientist [0.96870681 0.01044042 0.01041677 0.01043601]\n",
      "Data Engineer [0.9652626  0.01184414 0.01140861 0.01148465]\n",
      "Data Analyst [0.91972813 0.02643254 0.02532567 0.02851366]\n",
      "Data Analyst [0.88323057 0.0423472  0.03614354 0.03827868]\n",
      "Data Engineer [0.75910206 0.23536629 0.00273707 0.00279458]\n",
      "Data Engineer [0.7588664  0.23629511 0.00239682 0.00244167]\n",
      "Data Engineer [0.73283477 0.16064219 0.09453522 0.01198782]\n",
      "Data Scientist [0.7304225  0.0052536  0.25894958 0.00537431]\n",
      "Data Scientist [0.698715   0.00579998 0.28942645 0.00605857]\n",
      "Data Engineer [0.66237529 0.33257931 0.00249303 0.00255238]\n",
      "Data Scientist [0.6443369  0.00581419 0.05886704 0.29098188]\n",
      "Data Scientist [0.61140585 0.00455989 0.00465768 0.37937658]\n",
      "Data Analyst [0.60944113 0.37905089 0.0056545  0.00585347]\n",
      "Data Scientist [0.57846496 0.00297014 0.0029612  0.4156037 ]\n",
      "Data Analyst [0.53865862 0.00503513 0.15847162 0.29783464]\n",
      "Data Engineer [0.49807516 0.49465569 0.00355461 0.00371454]\n"
     ]
    }
   ],
   "source": [
    "#  test the modle: #rerturn the title and the probability of occuarance of all 4 topics for each JD order by the likelihood of topic 1, \n",
    "topic_1 = np.argsort(lda_fit[:,0])[::-1]\n",
    "for i in topic_1[:20]:\n",
    "    print(df['Title'][i],lda_fit[i])\n"
   ]
  },
  {
   "cell_type": "code",
   "execution_count": 29,
   "metadata": {},
   "outputs": [
    {
     "name": "stdout",
     "output_type": "stream",
     "text": [
      "Data Engineer [0.00277804 0.99155823 0.00281826 0.00284546]\n",
      "Data Engineer [0.00277804 0.99155823 0.00281826 0.00284546]\n",
      "Data Engineer [0.00339915 0.98944525 0.0034917  0.00366389]\n",
      "Data Engineer [0.00367449 0.98872556 0.00375611 0.00384383]\n",
      "Data Engineer [0.00420897 0.98683066 0.00433599 0.00462438]\n",
      "Data Engineer [0.00444079 0.98618165 0.004575   0.00480256]\n",
      "Data Engineer [0.00475718 0.98531843 0.00489352 0.00503087]\n",
      "Data Engineer [0.00487395 0.98498332 0.00503782 0.00510491]\n",
      "Data Engineer [0.00506707 0.98448912 0.00512471 0.00531909]\n",
      "Data Engineer [0.00526238 0.98393831 0.00532692 0.00547239]\n",
      "Data Engineer [0.00556242 0.98311485 0.00555832 0.0057644 ]\n",
      "Data Engineer [0.00552575 0.98301386 0.00565964 0.00580076]\n",
      "Data Engineer [0.00551126 0.9829992  0.0057622  0.00572734]\n",
      "Data Engineer [0.00551126 0.9829992  0.0057622  0.00572734]\n",
      "Data Engineer [0.00559185 0.98296253 0.00563585 0.00580976]\n",
      "Data Engineer [0.00551342 0.98295532 0.00569413 0.00583713]\n",
      "Data Engineer [0.00551342 0.98295532 0.00569413 0.00583713]\n",
      "Data Engineer [0.00579195 0.98185119 0.006102   0.00625487]\n",
      "Data Engineer [0.00650171 0.98016183 0.00660424 0.00673222]\n",
      "Data Engineer [0.00667398 0.97974815 0.00681112 0.00676675]\n"
     ]
    }
   ],
   "source": [
    "#  test the modle: #rerturn the title and the probability of occuarance of all 4 topics for each JD order by the likelihood of topic 2, \n",
    "topic_2 = np.argsort(lda_fit[:,1])[::-1]\n",
    "for i in topic_2[:20]:\n",
    "    print(df['Title'][i],lda_fit[i])\n"
   ]
  },
  {
   "cell_type": "code",
   "execution_count": 30,
   "metadata": {},
   "outputs": [
    {
     "name": "stdout",
     "output_type": "stream",
     "text": [
      "Data Scientist [0.00374571 0.00402345 0.98824599 0.00398484]\n",
      "Data Scientist [0.00417101 0.00444634 0.98699146 0.00439119]\n",
      "Data Scientist [0.00417101 0.00444634 0.98699146 0.00439119]\n",
      "Data Scientist [0.00437483 0.00454329 0.98654983 0.00453204]\n",
      "Data Scientist [0.0047536  0.00497454 0.98540166 0.0048702 ]\n",
      "Machine Learning Engineer [0.00591675 0.00624211 0.98170772 0.00613342]\n",
      "Machine Learning Engineer [0.00629448 0.00635438 0.98074352 0.00660763]\n",
      "Data Scientist [0.00650333 0.0067059  0.97990645 0.00688431]\n",
      "Data Scientist [0.00715581 0.00738216 0.97812637 0.00733566]\n",
      "Data Engineer [0.00772368 0.00825883 0.97583329 0.0081842 ]\n",
      "Machine Learning Engineer [0.00895885 0.00904539 0.97290165 0.00909412]\n",
      "Machine Learning Engineer [0.01090749 0.01134062 0.96654082 0.01121108]\n",
      "Data Analyst [0.01083824 0.0109294  0.96597536 0.01225701]\n",
      "Data Analyst [0.01083824 0.0109294  0.96597536 0.01225701]\n",
      "Data Analyst [0.01322845 0.01340193 0.95991571 0.01345391]\n",
      "Data Scientist [0.01401864 0.01474083 0.95644152 0.014799  ]\n",
      "Data Scientist [0.00555586 0.17249086 0.81621017 0.00574311]\n",
      "Machine Learning Engineer [0.00637116 0.00662447 0.76503162 0.22197275]\n",
      "Data Scientist [0.01930694 0.19902376 0.7611791  0.02049021]\n",
      "Data Analyst [0.01683261 0.24762936 0.71784766 0.01769037]\n"
     ]
    }
   ],
   "source": [
    "#  test the modle: #rerturn the title and the probability of occuarance of all 4 topics for each JD order by the likelihood of topic 3, \n",
    "topic_3 = np.argsort(lda_fit[:,2])[::-1]\n",
    "for i in topic_3[:20]:\n",
    "    print(df['Title'][i],lda_fit[i])\n"
   ]
  },
  {
   "cell_type": "code",
   "execution_count": 31,
   "metadata": {},
   "outputs": [
    {
     "name": "stdout",
     "output_type": "stream",
     "text": [
      "Data Analyst [0.00441352 0.00458427 0.00453874 0.98646347]\n",
      "Data Analyst [0.00470386 0.00478923 0.00476448 0.98574243]\n",
      "Data Scientist [0.00475455 0.00484215 0.00497748 0.98542582]\n",
      "Data Scientist [0.00523877 0.0053565  0.00537002 0.9840347 ]\n",
      "Data Scientist [0.00566928 0.00591469 0.0057981  0.98261793]\n",
      "Data Analyst [0.00606075 0.00611403 0.00603863 0.98178659]\n",
      "Data Scientist [0.00579816 0.00625353 0.00621608 0.98173222]\n",
      "Data Analyst [0.00635631 0.00651027 0.00630698 0.98082644]\n",
      "Data Analyst [0.00661286 0.0066912  0.0066331  0.98006285]\n",
      "Data Analyst [0.0065346  0.00707143 0.00668739 0.97970658]\n",
      "Data Analyst [0.00688458 0.00712783 0.00687313 0.97911445]\n",
      "Data Analyst [0.00685028 0.00711281 0.00697548 0.97906144]\n",
      "Data Scientist [0.00687985 0.00710182 0.00703351 0.97898482]\n",
      "Data Analyst [0.00688656 0.00730495 0.00733363 0.97847486]\n",
      "Data Analyst [0.00719269 0.0072947  0.00728455 0.97822806]\n",
      "Data Analyst [0.00721372 0.00738274 0.00722301 0.97818054]\n",
      "Data Analyst [0.00736811 0.00743508 0.00731903 0.97787778]\n",
      "Data Analyst [0.00724288 0.00764403 0.00784569 0.9772674 ]\n",
      "Data Scientist [0.00748428 0.00768271 0.00767429 0.97715872]\n",
      "Data Scientist [0.00751065 0.00761954 0.00773691 0.9771329 ]\n"
     ]
    }
   ],
   "source": [
    "#  test the modle: #rerturn the title and the probability of occuarance of all 4 topics for each JD order by the likelihood of topic 4, \n",
    "topic_4 = np.argsort(lda_fit[:,3])[::-1]\n",
    "for i in topic_4[:20]:\n",
    "    print(df['Title'][i],lda_fit[i])\n"
   ]
  },
  {
   "cell_type": "code",
   "execution_count": 32,
   "metadata": {},
   "outputs": [
    {
     "name": "stderr",
     "output_type": "stream",
     "text": [
      "/opt/anaconda3/lib/python3.7/site-packages/pyLDAvis/_prepare.py:257: FutureWarning: Sorting because non-concatenation axis is not aligned. A future version\n",
      "of pandas will change to not sort by default.\n",
      "\n",
      "To accept the future behavior, pass 'sort=False'.\n",
      "\n",
      "To retain the current behavior and silence the warning, pass 'sort=True'.\n",
      "\n",
      "  return pd.concat([default_term_info] + list(topic_dfs))\n"
     ]
    },
    {
     "data": {
      "text/html": [
       "\n",
       "<link rel=\"stylesheet\" type=\"text/css\" href=\"https://cdn.rawgit.com/bmabey/pyLDAvis/files/ldavis.v1.0.0.css\">\n",
       "\n",
       "\n",
       "<div id=\"ldavis_el20512140682331389520851343078\"></div>\n",
       "<script type=\"text/javascript\">\n",
       "\n",
       "var ldavis_el20512140682331389520851343078_data = {\"mdsDat\": {\"x\": [0.050846457215877064, 0.0787815771648662, 0.1390353633693653, -0.2686633977501087], \"y\": [-0.06492842158264192, -0.12568452434098037, 0.15799343317360895, 0.03261951275001334], \"topics\": [1, 2, 3, 4], \"cluster\": [1, 1, 1, 1], \"Freq\": [38.48305544271336, 36.24892218986137, 17.405611417939042, 7.862410949486229]}, \"tinfo\": {\"Category\": [\"Default\", \"Default\", \"Default\", \"Default\", \"Default\", \"Default\", \"Default\", \"Default\", \"Default\", \"Default\", \"Default\", \"Default\", \"Default\", \"Default\", \"Default\", \"Default\", \"Default\", \"Default\", \"Default\", \"Default\", \"Default\", \"Default\", \"Default\", \"Default\", \"Default\", \"Default\", \"Default\", \"Default\", \"Default\", \"Default\", \"Topic1\", \"Topic1\", \"Topic1\", \"Topic1\", \"Topic1\", \"Topic1\", \"Topic1\", \"Topic1\", \"Topic1\", \"Topic1\", \"Topic1\", \"Topic1\", \"Topic1\", \"Topic1\", \"Topic1\", \"Topic1\", \"Topic1\", \"Topic1\", \"Topic1\", \"Topic1\", \"Topic1\", \"Topic1\", \"Topic1\", \"Topic1\", \"Topic1\", \"Topic1\", \"Topic1\", \"Topic1\", \"Topic1\", \"Topic1\", \"Topic1\", \"Topic1\", \"Topic1\", \"Topic1\", \"Topic1\", \"Topic1\", \"Topic1\", \"Topic1\", \"Topic1\", \"Topic1\", \"Topic1\", \"Topic1\", \"Topic1\", \"Topic1\", \"Topic1\", \"Topic1\", \"Topic1\", \"Topic1\", \"Topic1\", \"Topic1\", \"Topic1\", \"Topic1\", \"Topic1\", \"Topic1\", \"Topic1\", \"Topic1\", \"Topic1\", \"Topic1\", \"Topic1\", \"Topic1\", \"Topic2\", \"Topic2\", \"Topic2\", \"Topic2\", \"Topic2\", \"Topic2\", \"Topic2\", \"Topic2\", \"Topic2\", \"Topic2\", \"Topic2\", \"Topic2\", \"Topic2\", \"Topic2\", \"Topic2\", \"Topic2\", \"Topic2\", \"Topic2\", \"Topic2\", \"Topic2\", \"Topic2\", \"Topic2\", \"Topic2\", \"Topic2\", \"Topic2\", \"Topic2\", \"Topic2\", \"Topic2\", \"Topic2\", \"Topic2\", \"Topic2\", \"Topic2\", \"Topic2\", \"Topic2\", \"Topic2\", \"Topic2\", \"Topic2\", \"Topic2\", \"Topic2\", \"Topic2\", \"Topic2\", \"Topic2\", \"Topic2\", \"Topic2\", \"Topic2\", \"Topic2\", \"Topic2\", \"Topic2\", \"Topic2\", \"Topic2\", \"Topic3\", \"Topic3\", \"Topic3\", \"Topic3\", \"Topic3\", \"Topic3\", \"Topic3\", \"Topic3\", \"Topic3\", \"Topic3\", \"Topic3\", \"Topic3\", \"Topic3\", \"Topic3\", \"Topic3\", \"Topic3\", \"Topic3\", \"Topic3\", \"Topic3\", \"Topic3\", \"Topic3\", \"Topic3\", \"Topic3\", \"Topic3\", \"Topic3\", \"Topic3\", \"Topic3\", \"Topic3\", \"Topic3\", \"Topic3\", \"Topic3\", \"Topic3\", \"Topic3\", \"Topic3\", \"Topic3\", \"Topic3\", \"Topic3\", \"Topic4\", \"Topic4\", \"Topic4\", \"Topic4\", \"Topic4\", \"Topic4\", \"Topic4\", \"Topic4\", \"Topic4\", \"Topic4\", \"Topic4\", \"Topic4\", \"Topic4\", \"Topic4\", \"Topic4\", \"Topic4\", \"Topic4\", \"Topic4\", \"Topic4\", \"Topic4\", \"Topic4\", \"Topic4\", \"Topic4\", \"Topic4\", \"Topic4\", \"Topic4\", \"Topic4\", \"Topic4\", \"Topic4\", \"Topic4\", \"Topic4\", \"Topic4\", \"Topic4\", \"Topic4\", \"Topic4\", \"Topic4\", \"Topic4\", \"Topic4\", \"Topic4\", \"Topic4\", \"Topic4\", \"Topic4\", \"Topic4\", \"Topic4\"], \"Freq\": [157.0, 276.0, 68.0, 64.0, 61.0, 86.0, 46.0, 68.0, 45.0, 43.0, 176.0, 40.0, 141.0, 112.0, 191.0, 33.0, 76.0, 181.0, 206.0, 59.0, 29.0, 38.0, 27.0, 36.0, 26.0, 26.0, 28.0, 24.0, 37.0, 23.0, 38.991994644016394, 22.479146629164262, 21.51783692169765, 19.51979745915771, 17.600123940081897, 15.734777854509355, 15.728741780234346, 19.757738957647053, 130.6535790597426, 24.07035767559048, 16.92237706199263, 24.037697950834215, 40.72138189788739, 24.197386760012748, 16.397239906214512, 16.2237769280896, 26.996304190301295, 16.893231618721654, 22.67173949779083, 20.160752490848612, 15.82399968105693, 16.603650630214847, 16.599778960337023, 52.551398272132204, 80.32219196228591, 17.962393876682583, 13.858655214968637, 18.712596687134113, 16.24669183401899, 29.666925806302174, 44.33903637149604, 23.773093124016306, 72.44831368884431, 25.195268390607392, 22.90808692757575, 127.20381901264452, 32.69677237954221, 23.98338108429466, 29.270814108417465, 24.219794750978345, 88.04382747578165, 61.65558001964156, 45.13495342654589, 45.55522522524017, 26.805829865194593, 100.87100921391487, 30.606997230469574, 35.1234854312401, 36.88228149123828, 49.347078396157606, 56.42396603702984, 42.15971502665072, 35.3443205921149, 44.25508974313594, 27.85323082993796, 30.852873676914054, 41.076213241087565, 30.366986476707144, 32.3676482323109, 32.36626673495551, 39.13703659865105, 110.46281324550105, 57.76954729320489, 18.573086596134896, 30.29959048993349, 72.48030241413299, 23.853483347124687, 21.952188876483035, 21.010417208763315, 17.058593973452503, 23.274214239902623, 23.20293110882412, 160.5395372319098, 21.788083478252634, 28.76686252794374, 25.163910313600418, 47.143978364125395, 21.337845688880638, 30.44589628083342, 14.305431889979149, 19.188439580947165, 48.012919305955094, 20.442685706899894, 53.88547505810381, 42.579602590240334, 18.43441046071686, 17.56008797437558, 155.63709454079788, 23.643750791691875, 16.535679308473892, 27.25682106439277, 62.7907768760232, 30.367107262875816, 47.98952266723034, 88.56880384805801, 29.82303243471925, 30.76894025029917, 35.04670347039293, 56.42381732256189, 26.72494882149647, 28.926114560077796, 47.121965741801574, 51.88684796503406, 31.398609473210076, 31.68636257116305, 36.29911768746799, 36.29863400268007, 36.18940220339335, 40.95939583513612, 29.726580419828387, 68.06726316019757, 26.78974534716033, 25.807889393314714, 25.80622993553145, 32.48373505548417, 23.843849888404456, 22.86038272676902, 22.85533670927074, 21.874278979530676, 21.873675306979557, 28.515982406351785, 20.891008132251258, 17.943796334953014, 17.943796334952953, 16.95956411047975, 16.95956411047959, 16.959564110479576, 16.95956411047956, 16.959564110479356, 16.959564110478993, 82.60261516106864, 25.865436347181316, 20.984087108531575, 30.127005554009916, 20.193404392825737, 12.937259041190305, 25.523088803863068, 10.983817260908232, 9.70395785534328, 151.91435980358938, 19.46809743833431, 51.71753697597839, 46.90558123972477, 39.471000919112434, 26.31084025538735, 23.526590723459563, 21.971533862319763, 157.10974653112692, 67.60673956172336, 63.75673109833707, 60.87002596326258, 45.47174371028087, 44.509371061088565, 42.58455453415275, 39.69770075149438, 6.77628318994799, 6.6606207995892595, 4.829240541811794, 8.931830922871795, 4.2538981303425745, 7.716583343966918, 5.818199298075452, 3.5878605874273526, 4.107485927347048, 3.5766131558882224, 5.352790790212768, 7.610436556862268, 3.5631196933961236, 4.732047508957545, 4.389895924036094, 2.8853133701825553, 3.6960597714198813, 4.601314219155375, 4.51539559682189, 2.1695773995571086, 3.016532062198, 2.422136713517878, 5.596818976291077, 4.960007347073966, 4.7054840990717075, 5.181859491329042, 4.899142285379704, 8.136445593439866, 8.008303663938143, 7.634555189270915, 6.749060676761756, 7.576949273250796, 6.883446119909084, 6.766680054238755, 5.633940067499123, 5.522486179549459], \"Term\": [\"de donn\\u00e9es\", \"machine learning\", \"et de\", \"des donn\\u00e9es\", \"de la\", \"machine learn\", \"et les\", \"deep learning\", \"et des\", \"avec les\", \"data engineer\", \"donn\\u00e9es et\", \"data analyst\", \"data pipeline\", \"big data\", \"learn algorithm\", \"data warehouse\", \"data scientist\", \"data science\", \"data engineering\", \"machine learn algorithm\", \"ad hoc\", \"learning deep\", \"learning model\", \"natural language\", \"learning deep learning\", \"machine learning model\", \"language processing\", \"selection process\", \"natural language processing\", \"attention detail\", \"learning technique\", \"machine learning technique\", \"non technical\", \"skill strong\", \"analyst join\", \"post secondary\", \"business unit\", \"data analyst\", \"develop implement\", \"sql python\", \"project management\", \"skill ability\", \"strong analytical\", \"time management\", \"continuous improvement\", \"analytical skill\", \"problem solving\", \"statistical analysis\", \"drive business\", \"data visualization tool\", \"science team\", \"data science team\", \"ability work\", \"data analysis\", \"statistical technique\", \"experience statistical\", \"prove ability\", \"management skill\", \"data collection\", \"data visualization\", \"customer experience\", \"communication skill\", \"etc experience\", \"demonstrate ability\", \"data science\", \"advanced analytic\", \"actionable insight\", \"ad hoc\", \"analyze data\", \"data scientist\", \"data set\", \"data source\", \"data drive\", \"large data set\", \"machine learning\", \"fast pace\", \"problem solve\", \"data mining\", \"experience data\", \"computer science\", \"equal opportunity\", \"bachelor degree\", \"experience work\", \"complex data\", \"data quality\", \"year experience\", \"team member\", \"equal opportunity employer\", \"opportunity employer\", \"data lake\", \"data pipeline\", \"data engineering\", \"opportunity work\", \"google cloud\", \"data warehouse\", \"cloud base\", \"scale data\", \"data modeling\", \"data infrastructure\", \"implement data\", \"work canada\", \"data engineer\", \"data solution\", \"cloud platform\", \"maintain data\", \"data platform\", \"experience cloud\", \"build data\", \"edge technology\", \"design build\", \"large scale\", \"place work\", \"real time\", \"data processing\", \"code review\", \"senior data engineer\", \"big data\", \"java scala\", \"help build\", \"data architecture\", \"data analytic\", \"data technology\", \"good practice\", \"year experience\", \"design implement\", \"engineering team\", \"hand experience\", \"experience work\", \"big data technology\", \"team data\", \"experience data\", \"computer science\", \"data management\", \"work environment\", \"equal opportunity employer\", \"opportunity employer\", \"equal opportunity\", \"data scientist\", \"data source\", \"deep learning\", \"learning deep\", \"natural language\", \"learning deep learning\", \"learn algorithm\", \"language processing\", \"natural language processing\", \"machine learning deep\", \"accommodation available\", \"available request\", \"machine learn algorithm\", \"accommodation available request\", \"aspect selection\", \"aspect selection process\", \"take aspect\", \"available request candidate\", \"candidate take\", \"request candidate take\", \"candidate take aspect\", \"request candidate\", \"machine learn\", \"machine learning model\", \"scikit learn\", \"learning model\", \"people disability\", \"learning framework\", \"selection process\", \"environment experience\", \"production environment\", \"machine learning\", \"artificial intelligence\", \"data scientist\", \"data science\", \"computer science\", \"big data\", \"data set\", \"experience work\", \"de donn\\u00e9es\", \"et de\", \"des donn\\u00e9es\", \"de la\", \"et les\", \"et des\", \"avec les\", \"donn\\u00e9es et\", \"apache spark\", \"minimum year experience\", \"deep understanding\", \"ad hoc\", \"good understanding\", \"sql server\", \"analyze data\", \"python java\", \"strong knowledge\", \"strong communication\", \"actionable insight\", \"minimum year\", \"decision making\", \"visualization tool\", \"work knowledge\", \"verbal write\", \"functional team\", \"relational database\", \"ideal candidate\", \"work cross\", \"write verbal\", \"thank applicant\", \"power bi\", \"degree computer science\", \"large data\", \"programming language\", \"degree computer\", \"data analyst\", \"computer science\", \"data engineer\", \"experience work\", \"data science\", \"year experience\", \"machine learning\", \"experience data\", \"data set\"], \"Total\": [157.0, 276.0, 68.0, 64.0, 61.0, 86.0, 46.0, 68.0, 45.0, 43.0, 176.0, 40.0, 141.0, 112.0, 191.0, 33.0, 76.0, 181.0, 206.0, 59.0, 29.0, 38.0, 27.0, 36.0, 26.0, 26.0, 28.0, 24.0, 37.0, 23.0, 39.73139831742601, 23.259041938653564, 22.28992669339489, 20.35289655802597, 18.41399502256425, 16.4756668410787, 16.475889720994186, 21.32425027951149, 141.45223387117863, 26.16082067875885, 18.408720864327115, 26.171833416239334, 45.606092210118206, 27.11986630658407, 18.419489442905178, 18.420366159854254, 30.98896035188934, 19.408702193434657, 26.147129939294388, 23.293557449061705, 18.42195762343041, 19.374100976343502, 19.3741199933747, 62.09905139875068, 95.09417424018598, 21.356371393390237, 16.503618295075416, 22.33174829597478, 19.401036937638533, 35.92339974072628, 55.26870970277426, 29.092512425121903, 99.02879960826557, 31.065023071255197, 28.123195424393447, 206.1684073383415, 42.69427004751522, 30.00914546421269, 38.70292796362548, 30.97426430791875, 181.16691097858782, 113.77998246589107, 75.71544058544106, 77.77406075834223, 35.926657823716326, 276.4788598710722, 44.62900841201787, 56.38092288472365, 61.270820787688294, 112.72696293693701, 155.79011858511447, 89.4576088549034, 63.12866227523378, 129.39950160477935, 40.75045663568085, 56.31311019886706, 151.72752958880872, 57.37898338260248, 78.78304438366503, 78.7830633614074, 39.902755726397565, 112.88203990798259, 59.36651698746675, 19.46348758324959, 32.1059820487101, 76.88108186861842, 25.311263970001693, 23.354655023718703, 22.37695362156449, 18.483610907785305, 25.298107428724645, 25.297557755226478, 176.15468962112166, 24.32324779628213, 32.12790597662189, 28.220156625409885, 53.560698513591426, 24.320697628877355, 35.07669007509024, 16.539180107027544, 22.374283545030867, 56.41780972806716, 24.316996590701876, 64.27065513694518, 51.65068603965103, 22.41744825023784, 21.424185056675782, 191.94041728324055, 29.22479997199598, 20.46878570804187, 34.991549640046536, 88.46399475693056, 39.99400079124062, 70.07572508230615, 151.72752958880872, 39.9615610771095, 41.9376135066659, 50.66242635642548, 129.39950160477935, 36.09793446837593, 41.82858544279919, 112.72696293693701, 155.79011858511447, 51.49652149136238, 54.4046667101218, 78.78304438366503, 78.7830633614074, 89.4576088549034, 181.16691097858782, 75.71544058544106, 68.82666621670286, 27.523941511437453, 26.540557202825745, 26.540531470620156, 33.42135700692446, 24.57377597240616, 23.590366065279678, 23.590296266169094, 22.606922172093274, 22.6069133100692, 29.48722085799693, 21.623515886643677, 18.673329942233813, 18.673329942233813, 17.6899071222194, 17.6899071222194, 17.689907122219395, 17.6899071222194, 17.689907122219395, 17.689907122219395, 86.48419695924981, 28.482270777406857, 23.562824501528937, 36.28303550153145, 25.489204800081158, 16.661882800565472, 37.23508179808681, 17.60696206239329, 17.614760634227476, 276.4788598710722, 36.16680830066426, 181.16691097858782, 206.1684073383415, 155.79011858511447, 191.94041728324055, 113.77998246589107, 129.39950160477935, 157.84225291832414, 68.33961611949904, 64.4900434439027, 61.602855946615364, 46.2045482756723, 45.24215584388545, 43.31736951700857, 40.43018084124423, 20.382891442172877, 21.3142053113951, 20.349123287445057, 38.70292796362548, 20.355056304606123, 37.85597741989308, 30.97426430791875, 19.46587738348933, 22.294505966519154, 19.420490244560824, 30.00914546421269, 44.6173763613028, 22.31563854594188, 30.997857807792276, 29.088945674962567, 19.42208569048393, 27.176304499865076, 33.95110908372701, 33.99643674190659, 16.482518268668137, 23.256403679457133, 19.388762697601337, 45.601495119159075, 44.773890852804236, 43.71361965382722, 50.58350809917711, 47.69515957458965, 141.45223387117863, 155.79011858511447, 176.15468962112166, 129.39950160477935, 206.1684073383415, 151.72752958880872, 276.4788598710722, 112.72696293693701, 113.77998246589107], \"loglift\": [30.0, 29.0, 28.0, 27.0, 26.0, 25.0, 24.0, 23.0, 22.0, 21.0, 20.0, 19.0, 18.0, 17.0, 16.0, 15.0, 14.0, 13.0, 12.0, 11.0, 10.0, 9.0, 8.0, 7.0, 6.0, 5.0, 4.0, 3.0, 2.0, 1.0, 0.9362, 0.9208, 0.9197, 0.9132, 0.9097, 0.9089, 0.9085, 0.8787, 0.8755, 0.8717, 0.8708, 0.8699, 0.8417, 0.8409, 0.8387, 0.828, 0.817, 0.8161, 0.8123, 0.8105, 0.8029, 0.8006, 0.8004, 0.788, 0.7861, 0.7819, 0.7803, 0.7781, 0.7775, 0.7636, 0.7346, 0.753, 0.6424, 0.7455, 0.7498, 0.472, 0.6882, 0.7308, 0.6756, 0.709, 0.2334, 0.3422, 0.4376, 0.4201, 0.6621, -0.0533, 0.5778, 0.4817, 0.4474, 0.1289, -0.0607, 0.2027, 0.3749, -0.118, 0.5744, 0.3533, -0.3517, 0.3186, 0.0654, 0.0654, 0.9954, 0.9931, 0.9875, 0.9679, 0.9569, 0.9558, 0.9554, 0.9528, 0.9517, 0.9345, 0.9314, 0.9283, 0.9219, 0.9047, 0.9043, 0.9001, 0.8872, 0.8839, 0.8732, 0.8697, 0.8612, 0.8534, 0.8412, 0.8385, 0.8216, 0.8191, 0.8159, 0.8051, 0.8028, 0.8014, 0.765, 0.672, 0.7394, 0.6362, 0.4765, 0.7221, 0.7051, 0.6463, 0.1847, 0.7141, 0.6459, 0.1425, -0.0847, 0.52, 0.4742, 0.2399, 0.2398, 0.1098, -0.4721, 0.0798, 1.7373, 1.7213, 1.7204, 1.7203, 1.7199, 1.7182, 1.7169, 1.7167, 1.7154, 1.7154, 1.7149, 1.7139, 1.7085, 1.7085, 1.7062, 1.7062, 1.7062, 1.7062, 1.7062, 1.7062, 1.7025, 1.652, 1.6325, 1.5624, 1.5155, 1.4954, 1.3707, 1.2765, 1.1522, 1.1496, 1.129, 0.4948, 0.2678, 0.3754, -0.2388, 0.1722, -0.0248, 2.5384, 2.5323, 2.5316, 2.5311, 2.5271, 2.5267, 2.526, 2.5248, 1.4418, 1.3799, 1.1047, 1.0768, 0.9776, 0.9527, 0.8709, 0.852, 0.8515, 0.8512, 0.8192, 0.7745, 0.7084, 0.6635, 0.652, 0.6363, 0.548, 0.5445, 0.5243, 0.5153, 0.5006, 0.463, 0.4453, 0.3429, 0.3141, 0.2646, 0.2673, -0.3125, -0.425, -0.5956, -0.4104, -0.7605, -0.5499, -1.167, -0.4531, -0.4824], \"logprob\": [30.0, 29.0, 28.0, 27.0, 26.0, 25.0, 24.0, 23.0, 22.0, 21.0, 20.0, 19.0, 18.0, 17.0, 16.0, 15.0, 14.0, 13.0, 12.0, 11.0, 10.0, 9.0, 8.0, 7.0, 6.0, 5.0, 4.0, 3.0, 2.0, 1.0, -4.7524, -5.3031, -5.3468, -5.4443, -5.5478, -5.6598, -5.6602, -5.4322, -3.5432, -5.2347, -5.5871, -5.2361, -4.709, -5.2295, -5.6186, -5.6292, -5.12, -5.5888, -5.2946, -5.412, -5.6542, -5.6061, -5.6063, -4.4539, -4.0297, -5.5274, -5.7868, -5.4865, -5.6278, -5.0257, -4.6239, -5.2472, -4.1328, -5.1891, -5.2842, -3.5699, -4.9284, -5.2384, -5.0391, -5.2285, -3.9379, -4.2942, -4.6061, -4.5968, -5.1271, -3.8019, -4.9945, -4.8568, -4.808, -4.5168, -4.3828, -4.6743, -4.8506, -4.6257, -5.0888, -4.9865, -4.7003, -5.0024, -4.9386, -4.9386, -4.6888, -3.6512, -4.2994, -5.4342, -4.9448, -4.0726, -5.184, -5.267, -5.3109, -5.5193, -5.2086, -5.2116, -3.2774, -5.2745, -4.9967, -5.1305, -4.5027, -5.2954, -4.94, -5.6953, -5.4016, -4.4844, -5.3383, -4.3691, -4.6045, -5.4417, -5.4903, -3.3084, -5.1928, -5.5504, -5.0506, -4.2161, -4.9426, -4.4849, -3.8721, -4.9606, -4.9294, -4.7992, -4.323, -5.0703, -4.9912, -4.5032, -4.4068, -4.9091, -4.9, -4.7641, -4.7641, -4.7671, -4.6433, -4.9639, -3.4018, -4.3343, -4.3716, -4.3717, -4.1416, -4.4508, -4.4929, -4.4931, -4.537, -4.537, -4.2718, -4.583, -4.735, -4.735, -4.7915, -4.7915, -4.7915, -4.7915, -4.7915, -4.7915, -3.2083, -4.3694, -4.5785, -4.2169, -4.6169, -5.0622, -4.3827, -5.2259, -5.3498, -2.599, -4.6535, -3.6765, -3.7742, -3.9467, -4.3523, -4.4642, -4.5325, -1.7707, -2.6139, -2.6725, -2.7189, -3.0105, -3.0319, -3.0761, -3.1463, -4.9142, -4.9314, -5.2529, -4.638, -5.3798, -4.7842, -5.0666, -5.55, -5.4148, -5.5532, -5.15, -4.7981, -5.557, -5.2732, -5.3483, -5.768, -5.5203, -5.3013, -5.3201, -6.0531, -5.7235, -5.9429, -5.1054, -5.2262, -5.2789, -5.1824, -5.2385, -4.7312, -4.7471, -4.7949, -4.9182, -4.8025, -4.8985, -4.9156, -5.0988, -5.1188]}, \"token.table\": {\"Topic\": [1, 2, 3, 3, 3, 1, 4, 1, 4, 1, 2, 3, 4, 1, 1, 4, 1, 2, 4, 2, 3, 4, 1, 2, 3, 4, 3, 3, 1, 3, 3, 4, 1, 2, 3, 4, 1, 2, 3, 4, 2, 3, 2, 3, 1, 2, 3, 3, 2, 3, 1, 2, 3, 2, 3, 1, 2, 3, 4, 1, 2, 3, 4, 1, 2, 3, 4, 1, 2, 1, 2, 1, 2, 3, 1, 3, 4, 1, 2, 3, 1, 2, 4, 1, 2, 3, 1, 2, 3, 2, 3, 4, 1, 2, 2, 4, 2, 1, 2, 1, 2, 3, 4, 2, 4, 2, 4, 1, 2, 3, 1, 2, 3, 1, 2, 1, 2, 3, 4, 1, 2, 4, 1, 2, 3, 1, 2, 3, 4, 1, 2, 1, 2, 2, 3, 1, 2, 4, 1, 2, 2, 3, 4, 4, 4, 1, 2, 3, 4, 3, 1, 2, 3, 4, 1, 2, 3, 4, 1, 2, 3, 4, 1, 2, 4, 2, 3, 4, 2, 3, 4, 1, 2, 4, 4, 1, 3, 2, 3, 4, 1, 2, 3, 1, 2, 3, 4, 1, 2, 3, 4, 1, 2, 3, 4, 4, 4, 4, 1, 2, 3, 4, 1, 2, 1, 2, 3, 4, 1, 3, 1, 2, 3, 4, 1, 2, 3, 4, 1, 3, 4, 1, 2, 3, 4, 1, 2, 4, 2, 4, 1, 2, 3, 2, 3, 1, 2, 3, 4, 1, 2, 2, 3, 4, 3, 1, 2, 3, 4, 1, 3, 4, 1, 2, 3, 4, 3, 3, 3, 1, 3, 1, 2, 3, 4, 1, 1, 2, 3, 3, 1, 2, 3, 4, 3, 1, 2, 3, 1, 1, 2, 3, 1, 2, 3, 1, 2, 3, 4, 1, 2, 3, 4, 3, 3, 1, 1, 2, 3, 4, 2, 1, 3, 1, 2, 1, 1, 2, 4, 1, 2, 3, 1, 3, 2, 3, 1, 2, 3, 4, 1, 2, 1, 3, 2, 3, 4, 1, 2, 3, 1, 2, 4, 3, 3, 1, 2, 1, 2, 4, 1, 3, 1, 2, 3, 2, 3, 4, 1, 3, 1, 1, 4, 1, 2, 3, 4, 1, 4, 1, 3, 1, 4, 1, 2, 3, 4, 1, 2, 4, 3, 1, 2, 3, 1, 2, 3, 4, 1, 2, 4, 1, 2, 1, 2, 3, 4, 1, 2, 4, 2, 3, 4, 1, 3, 4, 1, 2, 1, 2, 4, 1, 3, 4, 1, 2, 3, 4], \"Freq\": [0.8534751949699872, 0.0805165278273573, 0.06441322226188584, 0.9731532595426688, 0.9711649164773982, 0.799756195277907, 0.16661587401623063, 0.7492973148505802, 0.23254054598811105, 0.7729374448438563, 0.16395642769415134, 0.04684469362690038, 0.02342234681345019, 0.9711291296633456, 0.8712780194432648, 0.09680866882702942, 0.7748368052074851, 0.032284866883645215, 0.19370920130187128, 0.5396682816668805, 0.09812150575761464, 0.3434252701516512, 0.22119729044083405, 0.22119729044083405, 0.5253435647969809, 0.027649661305104257, 0.9639416245352721, 0.9639416245352721, 0.9815914277271931, 0.9731536410236563, 0.9609999579165206, 0.992673388976587, 0.5544232799897452, 0.3484946331364112, 0.0633626605702566, 0.0316813302851283, 0.03646965083789683, 0.8127522186731293, 0.13545870311218822, 0.01562985035909864, 0.7479652339569097, 0.24932174465230325, 0.8552688391002018, 0.11403584521336024, 0.9378993276596533, 0.04689496638298267, 0.9609999579165208, 0.9609999579165208, 0.9481944492556448, 0.03950810205231853, 0.031125589097766207, 0.9026420838352199, 0.062251178195532414, 0.8029459820347317, 0.13382433033912194, 0.727061221430684, 0.15147108779805915, 0.1009807251987061, 0.02019614503974122, 0.6871088648239434, 0.2699356254665492, 0.024539602315140838, 0.024539602315140838, 0.35945797145924197, 0.3337824020692961, 0.2503368015519721, 0.05135113877989171, 0.8686037976199815, 0.10857547470249769, 0.8249545329497074, 0.1718655276978557, 0.8412713043591759, 0.08412713043591759, 0.07361123913142789, 0.9261076790013967, 0.01413904853437247, 0.05655619413748988, 0.2826008487259888, 0.7121541387894917, 0.011304033949039552, 0.1428916424518017, 0.7716148692397292, 0.05715665698072068, 0.8351102684189733, 0.05567401789459822, 0.13918504473649554, 0.5914568372986225, 0.257155146651575, 0.154293087990945, 0.9139694228197002, 0.04541462970532672, 0.04541462970532672, 0.01684451186872082, 0.9769816883858077, 0.9197337081381427, 0.05410198283165545, 0.9773761057359668, 0.38837574695903765, 0.6019824077865084, 0.6038763562219939, 0.16320982600594428, 0.21217277380772756, 0.03264196520118885, 0.9384655460769454, 0.04468883552747359, 0.9744685699307709, 0.017717610362377654, 0.037340812489450356, 0.8775090935020834, 0.07468162497890071, 0.019360827061083434, 0.8325155636265877, 0.13552578942758403, 0.5504934799467651, 0.4439463547957784, 0.6160012663413614, 0.11640968812750138, 0.22796897258302354, 0.03880322937583379, 0.8774592087699173, 0.051615247574701026, 0.10323049514940205, 0.4857399153336602, 0.2263106423713644, 0.2870281317880719, 0.5449113161762558, 0.2021445205169981, 0.2109334127133893, 0.05273335317834733, 0.08222586131387048, 0.9044844744525753, 0.5943305573084497, 0.3962203715389665, 0.7501125020373185, 0.22503375061119554, 0.7961104979042306, 0.162840783662229, 0.018093420406914335, 0.8685287593784288, 0.1085660949223036, 0.9365112749459006, 0.02601420208183057, 0.02601420208183057, 0.9946639578265526, 0.9902138312039007, 0.49292786210683454, 0.26886974296736427, 0.0896232476557881, 0.1792464953115762, 0.987989157950785, 0.5405638289481861, 0.14742649880405076, 0.049142166268016915, 0.2457108313400846, 0.18869839372117106, 0.5031957165897895, 0.20966488191241228, 0.10483244095620614, 0.17867555951972736, 0.5136922336192162, 0.20101000445969328, 0.11167222469982961, 0.8178302519652622, 0.17778918520983958, 0.9924012542443241, 0.8491892024949212, 0.04469416855236427, 0.08938833710472854, 0.7507214230723431, 0.20019237948595817, 0.05004809487148954, 0.9174024123595894, 0.038225100514982895, 0.038225100514982895, 0.9893599080614206, 0.8586065071312509, 0.12879097606968762, 0.8464748499867512, 0.06046248928476794, 0.06046248928476794, 0.04768988582724441, 0.7391932303222885, 0.21460448622259987, 0.1703871451173113, 0.11359143007820753, 0.6247528654301414, 0.056795715039103765, 0.46949611707286176, 0.4024252432053101, 0.12296326875717808, 0.01117847897792528, 0.40617876917986834, 0.4569511153273519, 0.12693086536870885, 0.012693086536870886, 0.9950304649223491, 0.9946475617846099, 0.9739300930184286, 0.8047636064089317, 0.03219054425635727, 0.12876217702542908, 0.03219054425635727, 0.0822344831763907, 0.8634620733521023, 0.4346786139125573, 0.4169366296712284, 0.09758091332730878, 0.05322595272398661, 0.8482988245176222, 0.12118554635966032, 0.3400322215644057, 0.43276828199106177, 0.17001611078220286, 0.05409603524888272, 0.6946154777584573, 0.22406950895434105, 0.044813901790868214, 0.044813901790868214, 0.6991384719027685, 0.18398380839546538, 0.1471870467163723, 0.19978387642163614, 0.6849732905884668, 0.09989193821081807, 0.014270276887259724, 0.442150582406564, 0.3438948974273276, 0.1965113699584729, 0.934405306602521, 0.031146843553417368, 0.1381694581849058, 0.690847290924529, 0.15790795221132092, 0.8305329022679133, 0.1465646298119847, 0.41180786405013253, 0.3235633217536755, 0.11765938972860929, 0.14707423716076162, 0.07905729729525567, 0.9091589188954401, 0.8212203342023716, 0.13687005570039526, 0.034217513925098815, 0.9766508829147603, 0.5947803043055402, 0.09150466220085235, 0.1830093244017047, 0.11438082775106542, 0.7515310812512163, 0.16700690694471473, 0.08350345347235737, 0.1063493962087485, 0.850795169669988, 0.017724899368124748, 0.017724899368124748, 0.9574715949855066, 0.9809641540177038, 0.979633736000407, 0.18005168058787366, 0.7802239492141192, 0.08268326942693024, 0.027561089808976747, 0.8268326942693024, 0.055122179617953494, 0.9458687102429101, 0.03468841829465746, 0.011562806098219152, 0.9597129061521896, 0.9834768810413411, 0.3653082193955024, 0.0614875220764707, 0.5497707856249144, 0.025318391443252642, 0.9749771575774723, 0.03510956018272375, 0.03510956018272375, 0.9128485647508174, 0.9869929274607797, 0.07087132883589908, 0.8858916104487384, 0.03543566441794954, 0.8246981875983943, 0.10308727344979929, 0.051543636724899644, 0.3586046806166979, 0.44825585077087243, 0.02241279253854362, 0.17930234030834896, 0.3753365365080256, 0.2815024023810192, 0.0469170670635032, 0.3284194694445224, 0.9796327862035921, 0.9749742728177254, 0.9826611137623646, 0.40617867133706165, 0.45695100525419435, 0.12693083479283176, 0.012693083479283176, 0.9761868174309895, 0.19616147460136066, 0.7846458984054426, 0.12337049885293458, 0.8224699923528972, 0.9711159925774576, 0.39472390001610835, 0.46051121668545975, 0.13157463333870278, 0.6207773517925725, 0.2128379491860249, 0.15962846188951865, 0.875895762146866, 0.10304656025257249, 0.39739398935675607, 0.5677056990810802, 0.2767700486994842, 0.43492436224204656, 0.17792360273538269, 0.09884644596410148, 0.9170163823948331, 0.0764180318662361, 0.8508066519549965, 0.1343378924139468, 0.616463350898235, 0.205487783632745, 0.205487783632745, 0.07779600175766394, 0.8401968189827705, 0.09335520210919672, 0.4123576630582089, 0.441811781848081, 0.14727059394936035, 0.9609999579165208, 0.9609999579165206, 0.04281801632198858, 0.9419963590837488, 0.877460070057322, 0.051615298238666, 0.103230596477332, 0.08487946764914472, 0.8912344103160196, 0.05371278652871827, 0.2417075393792322, 0.6982662248733374, 0.8401719809823616, 0.14002866349706025, 0.04667622116568675, 0.8990026992688426, 0.08770758041647245, 0.9775173707792933, 0.9234753530834958, 0.05432207959314682, 0.1320795377845014, 0.660397688922507, 0.02641590755690028, 0.21132726045520225, 0.8796376525224352, 0.1147353459811872, 0.842839809649076, 0.14047330160817934, 0.8849601147986987, 0.0737466762332249, 0.46342805390922953, 0.15447601796974317, 0.15447601796974317, 0.20596802395965758, 0.4933950999640578, 0.3139786999771277, 0.1794163999869301, 0.9609999579165206, 0.2390709581531284, 0.6933057786440723, 0.047814191630625676, 0.5228395177370136, 0.22656379101937257, 0.19170782317023835, 0.034855967849134244, 0.6189152029533359, 0.25788133456388995, 0.10315253382555599, 0.8686451407676168, 0.1085806425959521, 0.46338998516568447, 0.205951104518082, 0.15446332838856147, 0.15446332838856147, 0.7097264635645117, 0.12904117519354757, 0.16130146899193448, 0.9091786733938061, 0.039529507538861135, 0.039529507538861135, 0.7280440891614831, 0.12134068152691385, 0.12134068152691385, 0.4043770751729828, 0.5881848366152478, 0.4812824829209977, 0.3437732020864269, 0.13750928083457076, 0.7739803732380074, 0.042998909624333746, 0.12899672887300123, 0.2702212321726493, 0.5865777966674582, 0.09886142640462779, 0.04613533232215964], \"Term\": [\"ability work\", \"ability work\", \"ability work\", \"accommodation available\", \"accommodation available request\", \"actionable insight\", \"actionable insight\", \"ad hoc\", \"ad hoc\", \"advanced analytic\", \"advanced analytic\", \"advanced analytic\", \"advanced analytic\", \"analyst join\", \"analytical skill\", \"analytical skill\", \"analyze data\", \"analyze data\", \"analyze data\", \"apache spark\", \"apache spark\", \"apache spark\", \"artificial intelligence\", \"artificial intelligence\", \"artificial intelligence\", \"artificial intelligence\", \"aspect selection\", \"aspect selection process\", \"attention detail\", \"available request\", \"available request candidate\", \"avec les\", \"bachelor degree\", \"bachelor degree\", \"bachelor degree\", \"bachelor degree\", \"big data\", \"big data\", \"big data\", \"big data\", \"big data technology\", \"big data technology\", \"build data\", \"build data\", \"business unit\", \"business unit\", \"candidate take\", \"candidate take aspect\", \"cloud base\", \"cloud base\", \"cloud platform\", \"cloud platform\", \"cloud platform\", \"code review\", \"code review\", \"communication skill\", \"communication skill\", \"communication skill\", \"communication skill\", \"complex data\", \"complex data\", \"complex data\", \"complex data\", \"computer science\", \"computer science\", \"computer science\", \"computer science\", \"continuous improvement\", \"continuous improvement\", \"customer experience\", \"customer experience\", \"data analysis\", \"data analysis\", \"data analysis\", \"data analyst\", \"data analyst\", \"data analyst\", \"data analytic\", \"data analytic\", \"data analytic\", \"data architecture\", \"data architecture\", \"data architecture\", \"data collection\", \"data collection\", \"data collection\", \"data drive\", \"data drive\", \"data drive\", \"data engineer\", \"data engineer\", \"data engineer\", \"data engineering\", \"data engineering\", \"data infrastructure\", \"data infrastructure\", \"data lake\", \"data management\", \"data management\", \"data mining\", \"data mining\", \"data mining\", \"data mining\", \"data modeling\", \"data modeling\", \"data pipeline\", \"data pipeline\", \"data platform\", \"data platform\", \"data platform\", \"data processing\", \"data processing\", \"data processing\", \"data quality\", \"data quality\", \"data science\", \"data science\", \"data science\", \"data science\", \"data science team\", \"data science team\", \"data science team\", \"data scientist\", \"data scientist\", \"data scientist\", \"data set\", \"data set\", \"data set\", \"data set\", \"data solution\", \"data solution\", \"data source\", \"data source\", \"data technology\", \"data technology\", \"data visualization\", \"data visualization\", \"data visualization\", \"data visualization tool\", \"data visualization tool\", \"data warehouse\", \"data warehouse\", \"data warehouse\", \"de donn\\u00e9es\", \"de la\", \"decision making\", \"decision making\", \"decision making\", \"decision making\", \"deep learning\", \"deep understanding\", \"deep understanding\", \"deep understanding\", \"deep understanding\", \"degree computer\", \"degree computer\", \"degree computer\", \"degree computer\", \"degree computer science\", \"degree computer science\", \"degree computer science\", \"degree computer science\", \"demonstrate ability\", \"demonstrate ability\", \"des donn\\u00e9es\", \"design build\", \"design build\", \"design build\", \"design implement\", \"design implement\", \"design implement\", \"develop implement\", \"develop implement\", \"develop implement\", \"donn\\u00e9es et\", \"drive business\", \"drive business\", \"edge technology\", \"edge technology\", \"edge technology\", \"engineering team\", \"engineering team\", \"engineering team\", \"environment experience\", \"environment experience\", \"environment experience\", \"environment experience\", \"equal opportunity\", \"equal opportunity\", \"equal opportunity\", \"equal opportunity\", \"equal opportunity employer\", \"equal opportunity employer\", \"equal opportunity employer\", \"equal opportunity employer\", \"et de\", \"et des\", \"et les\", \"etc experience\", \"etc experience\", \"etc experience\", \"etc experience\", \"experience cloud\", \"experience cloud\", \"experience data\", \"experience data\", \"experience data\", \"experience data\", \"experience statistical\", \"experience statistical\", \"experience work\", \"experience work\", \"experience work\", \"experience work\", \"fast pace\", \"fast pace\", \"fast pace\", \"fast pace\", \"functional team\", \"functional team\", \"functional team\", \"good practice\", \"good practice\", \"good practice\", \"good practice\", \"good understanding\", \"good understanding\", \"good understanding\", \"google cloud\", \"google cloud\", \"hand experience\", \"hand experience\", \"hand experience\", \"help build\", \"help build\", \"ideal candidate\", \"ideal candidate\", \"ideal candidate\", \"ideal candidate\", \"implement data\", \"implement data\", \"java scala\", \"java scala\", \"java scala\", \"language processing\", \"large data\", \"large data\", \"large data\", \"large data\", \"large data set\", \"large data set\", \"large data set\", \"large scale\", \"large scale\", \"large scale\", \"large scale\", \"learn algorithm\", \"learning deep\", \"learning deep learning\", \"learning framework\", \"learning framework\", \"learning model\", \"learning model\", \"learning model\", \"learning model\", \"learning technique\", \"machine learn\", \"machine learn\", \"machine learn\", \"machine learn algorithm\", \"machine learning\", \"machine learning\", \"machine learning\", \"machine learning\", \"machine learning deep\", \"machine learning model\", \"machine learning model\", \"machine learning model\", \"machine learning technique\", \"maintain data\", \"maintain data\", \"maintain data\", \"management skill\", \"management skill\", \"management skill\", \"minimum year\", \"minimum year\", \"minimum year\", \"minimum year\", \"minimum year experience\", \"minimum year experience\", \"minimum year experience\", \"minimum year experience\", \"natural language\", \"natural language processing\", \"non technical\", \"opportunity employer\", \"opportunity employer\", \"opportunity employer\", \"opportunity employer\", \"opportunity work\", \"people disability\", \"people disability\", \"place work\", \"place work\", \"post secondary\", \"power bi\", \"power bi\", \"power bi\", \"problem solve\", \"problem solve\", \"problem solve\", \"problem solving\", \"problem solving\", \"production environment\", \"production environment\", \"programming language\", \"programming language\", \"programming language\", \"programming language\", \"project management\", \"project management\", \"prove ability\", \"prove ability\", \"python java\", \"python java\", \"python java\", \"real time\", \"real time\", \"real time\", \"relational database\", \"relational database\", \"relational database\", \"request candidate\", \"request candidate take\", \"scale data\", \"scale data\", \"science team\", \"science team\", \"science team\", \"scikit learn\", \"scikit learn\", \"selection process\", \"selection process\", \"selection process\", \"senior data engineer\", \"senior data engineer\", \"senior data engineer\", \"skill ability\", \"skill ability\", \"skill strong\", \"sql python\", \"sql python\", \"sql server\", \"sql server\", \"sql server\", \"sql server\", \"statistical analysis\", \"statistical analysis\", \"statistical technique\", \"statistical technique\", \"strong analytical\", \"strong analytical\", \"strong communication\", \"strong communication\", \"strong communication\", \"strong communication\", \"strong knowledge\", \"strong knowledge\", \"strong knowledge\", \"take aspect\", \"team data\", \"team data\", \"team data\", \"team member\", \"team member\", \"team member\", \"team member\", \"thank applicant\", \"thank applicant\", \"thank applicant\", \"time management\", \"time management\", \"verbal write\", \"verbal write\", \"verbal write\", \"verbal write\", \"visualization tool\", \"visualization tool\", \"visualization tool\", \"work canada\", \"work canada\", \"work canada\", \"work cross\", \"work cross\", \"work cross\", \"work environment\", \"work environment\", \"work knowledge\", \"work knowledge\", \"work knowledge\", \"write verbal\", \"write verbal\", \"write verbal\", \"year experience\", \"year experience\", \"year experience\", \"year experience\"]}, \"R\": 30, \"lambda.step\": 0.01, \"plot.opts\": {\"xlab\": \"PC1\", \"ylab\": \"PC2\"}, \"topic.order\": [4, 2, 3, 1]};\n",
       "\n",
       "function LDAvis_load_lib(url, callback){\n",
       "  var s = document.createElement('script');\n",
       "  s.src = url;\n",
       "  s.async = true;\n",
       "  s.onreadystatechange = s.onload = callback;\n",
       "  s.onerror = function(){console.warn(\"failed to load library \" + url);};\n",
       "  document.getElementsByTagName(\"head\")[0].appendChild(s);\n",
       "}\n",
       "\n",
       "if(typeof(LDAvis) !== \"undefined\"){\n",
       "   // already loaded: just create the visualization\n",
       "   !function(LDAvis){\n",
       "       new LDAvis(\"#\" + \"ldavis_el20512140682331389520851343078\", ldavis_el20512140682331389520851343078_data);\n",
       "   }(LDAvis);\n",
       "}else if(typeof define === \"function\" && define.amd){\n",
       "   // require.js is available: use it to load d3/LDAvis\n",
       "   require.config({paths: {d3: \"https://cdnjs.cloudflare.com/ajax/libs/d3/3.5.5/d3.min\"}});\n",
       "   require([\"d3\"], function(d3){\n",
       "      window.d3 = d3;\n",
       "      LDAvis_load_lib(\"https://cdn.rawgit.com/bmabey/pyLDAvis/files/ldavis.v1.0.0.js\", function(){\n",
       "        new LDAvis(\"#\" + \"ldavis_el20512140682331389520851343078\", ldavis_el20512140682331389520851343078_data);\n",
       "      });\n",
       "    });\n",
       "}else{\n",
       "    // require.js not available: dynamically load d3 & LDAvis\n",
       "    LDAvis_load_lib(\"https://cdnjs.cloudflare.com/ajax/libs/d3/3.5.5/d3.min.js\", function(){\n",
       "         LDAvis_load_lib(\"https://cdn.rawgit.com/bmabey/pyLDAvis/files/ldavis.v1.0.0.js\", function(){\n",
       "                 new LDAvis(\"#\" + \"ldavis_el20512140682331389520851343078\", ldavis_el20512140682331389520851343078_data);\n",
       "            })\n",
       "         });\n",
       "}\n",
       "</script>"
      ],
      "text/plain": [
       "<IPython.core.display.HTML object>"
      ]
     },
     "execution_count": 32,
     "metadata": {},
     "output_type": "execute_result"
    }
   ],
   "source": [
    "topic.visualization()"
   ]
  }
 ],
 "metadata": {
  "kernelspec": {
   "display_name": "Python 3",
   "language": "python",
   "name": "python3"
  },
  "language_info": {
   "codemirror_mode": {
    "name": "ipython",
    "version": 3
   },
   "file_extension": ".py",
   "mimetype": "text/x-python",
   "name": "python",
   "nbconvert_exporter": "python",
   "pygments_lexer": "ipython3",
   "version": "3.7.4"
  }
 },
 "nbformat": 4,
 "nbformat_minor": 2
}
